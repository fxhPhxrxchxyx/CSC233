{
 "cells": [
  {
   "cell_type": "markdown",
   "metadata": {},
   "source": [
    "#### Phurichaya Khemvaraporn 64130500227\n",
    "To do: CSC233 Assignment\n",
    "\n",
    "1) Write a regular expression code in Python to handle the following six possible telephone number formats.\n",
    "\n",
    "xxx.xxx.xxxx\n",
    "\n",
    "xxx-xxx-xxxx\n",
    "\n",
    "xxx-xxxxxxx\n",
    "\n",
    "xxx xxx xxxx\n",
    "\n",
    "(xxx) xxx-xxxx\n",
    "\n",
    "(xxx) xxx xxxx\n",
    "\n",
    "E.g.,\n",
    "\n",
    "428.515.5355\n",
    "086-315-5354\n",
    "428-5165455\n",
    "350 535 5325\n",
    "(089) 815-5395\n",
    "(289) 888 5412\n",
    "Any other format would result in an error."
   ]
  },
  {
   "cell_type": "code",
   "execution_count": 1,
   "metadata": {},
   "outputs": [
    {
     "name": "stdout",
     "output_type": "stream",
     "text": [
      "<re.Match object; span=(0, 12), match='428.515.5355'>\n",
      "<re.Match object; span=(0, 12), match='086-315-5354'>\n",
      "<re.Match object; span=(0, 11), match='428-5165455'>\n",
      "<re.Match object; span=(0, 12), match='350 535 5325'>\n",
      "<re.Match object; span=(0, 14), match='(089) 815-5395'>\n",
      "<re.Match object; span=(0, 14), match='(289) 888 5412'>\n"
     ]
    }
   ],
   "source": [
    "import re\n",
    "phone = ['428.515.5355', '086-315-5354', '428-5165455', '350 535 5325', '(089) 815-5395', '(289) 888 5412']\n",
    "for p in phone: #find these pattern in regex\n",
    "  matches = re.match(r\"^(\\d{3}|\\(\\d{3}\\))[\\.\\s-](\\d{7}|(\\d{3}[\\.\\s-]\\d{4}))$\",p)\n",
    "  print(matches)\n"
   ]
  },
  {
   "cell_type": "markdown",
   "metadata": {},
   "source": [
    "2) Write a regular expression code in Python to handle real numbers like: 12, 8., .12, 0.4, 12.5, 12.5E4, 12.5e4, 12.4E+4, 22E4, 13e-4, etc.\n",
    "\n",
    "Check Python and use only those supported in the language.\n",
    "\n",
    "For instance, 3e+5 is ok, but 3e+5. is not."
   ]
  },
  {
   "cell_type": "code",
   "execution_count": 2,
   "metadata": {},
   "outputs": [
    {
     "name": "stdout",
     "output_type": "stream",
     "text": [
      "<re.Match object; span=(0, 2), match='12'>\n",
      "<re.Match object; span=(0, 2), match='8.'>\n",
      "<re.Match object; span=(0, 3), match='.12'>\n",
      "<re.Match object; span=(0, 3), match='0.4'>\n",
      "<re.Match object; span=(0, 4), match='12.5'>\n",
      "<re.Match object; span=(0, 6), match='12.5E4'>\n",
      "<re.Match object; span=(0, 6), match='12.5e4'>\n",
      "<re.Match object; span=(0, 7), match='12.4E+4'>\n",
      "<re.Match object; span=(0, 4), match='22E4'>\n",
      "<re.Match object; span=(0, 5), match='13e-4'>\n"
     ]
    }
   ],
   "source": [
    "import re\n",
    "realNum = ['12' , '8.', '.12' , '0.4' , '12.5' , '12.5E4' ,'12.5e4', '12.4E+4', '22E4', '13e-4']\n",
    "for n in realNum:\n",
    "  matches = re.match(r\"^-?\\d*\\.?\\d*([Ee][+-]?\\d+)?$\",n)\n",
    "  print(matches)"
   ]
  }
 ],
 "metadata": {
  "interpreter": {
   "hash": "b0fa6594d8f4cbf19f97940f81e996739fb7646882a419484c72d19e05852a7e"
  },
  "kernelspec": {
   "display_name": "Python 3.9.7 64-bit",
   "language": "python",
   "name": "python3"
  },
  "language_info": {
   "codemirror_mode": {
    "name": "ipython",
    "version": 3
   },
   "file_extension": ".py",
   "mimetype": "text/x-python",
   "name": "python",
   "nbconvert_exporter": "python",
   "pygments_lexer": "ipython3",
   "version": "3.9.7"
  },
  "orig_nbformat": 4
 },
 "nbformat": 4,
 "nbformat_minor": 2
}

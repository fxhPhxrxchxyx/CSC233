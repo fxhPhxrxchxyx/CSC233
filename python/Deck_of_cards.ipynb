{
  "nbformat": 4,
  "nbformat_minor": 0,
  "metadata": {
    "colab": {
      "name": "Deck of cards.ipynb",
      "provenance": [],
      "collapsed_sections": []
    },
    "kernelspec": {
      "name": "python3",
      "display_name": "Python 3"
    },
    "language_info": {
      "name": "python"
    }
  },
  "cells": [
    {
      "cell_type": "markdown",
      "source": [
        "CSC233, SIT@KMUTT\n",
        "\n",
        "Feb. 2022\n",
        "\n",
        "By PM\n",
        "\n",
        "Python basics with an application of playing cards"
      ],
      "metadata": {
        "id": "TDmBw6qm2Pqt"
      }
    },
    {
      "cell_type": "code",
      "execution_count": 119,
      "metadata": {
        "colab": {
          "base_uri": "https://localhost:8080/"
        },
        "id": "rFiuGVnHjk-B",
        "outputId": "b269ef69-a9ef-48a6-96ad-df3fcd39634c"
      },
      "outputs": [
        {
          "output_type": "stream",
          "name": "stdout",
          "text": [
            "52\n",
            "[('ace', 'spade'), ('ace', 'heart'), ('ace', 'diamond'), ('ace', 'club'), ('2', 'spade'), ('2', 'heart'), ('2', 'diamond'), ('2', 'club'), ('3', 'spade'), ('3', 'heart'), ('3', 'diamond'), ('3', 'club'), ('4', 'spade'), ('4', 'heart'), ('4', 'diamond'), ('4', 'club'), ('5', 'spade'), ('5', 'heart'), ('5', 'diamond'), ('5', 'club'), ('6', 'spade'), ('6', 'heart'), ('6', 'diamond'), ('6', 'club'), ('7', 'spade'), ('7', 'heart'), ('7', 'diamond'), ('7', 'club'), ('8', 'spade'), ('8', 'heart'), ('8', 'diamond'), ('8', 'club'), ('9', 'spade'), ('9', 'heart'), ('9', 'diamond'), ('9', 'club'), ('10', 'spade'), ('10', 'heart'), ('10', 'diamond'), ('10', 'club'), ('jack', 'spade'), ('jack', 'heart'), ('jack', 'diamond'), ('jack', 'club'), ('queen', 'spade'), ('queen', 'heart'), ('queen', 'diamond'), ('queen', 'club'), ('king', 'spade'), ('king', 'heart'), ('king', 'diamond'), ('king', 'club')]\n",
            "Found four cards of the same values!\n",
            "[('8', 'heart'), ('8', 'spade'), ('8', 'diamond'), ('8', 'club')]\n",
            "Found four cards of the same values!\n",
            "[('ace', 'club'), ('ace', 'diamond'), ('ace', 'heart'), ('ace', 'spade')]\n",
            "Found four cards of the same values!\n",
            "[('8', 'club'), ('8', 'heart'), ('8', 'diamond'), ('8', 'spade')]\n",
            "Found four cards of the same values!\n",
            "[('10', 'heart'), ('10', 'club'), ('10', 'spade'), ('10', 'diamond')]\n",
            "Found four cards of the same values!\n",
            "[('jack', 'spade'), ('jack', 'diamond'), ('jack', 'heart'), ('jack', 'club')]\n",
            "Found four cards of the same values!\n",
            "[('10', 'club'), ('10', 'diamond'), ('10', 'heart'), ('10', 'spade')]\n",
            "Found four cards of the same values!\n",
            "[('8', 'diamond'), ('8', 'heart'), ('8', 'spade'), ('8', 'club')]\n",
            "Found four cards of the same values!\n",
            "[('8', 'diamond'), ('8', 'heart'), ('8', 'club'), ('8', 'spade')]\n",
            "Found four cards of the same values!\n",
            "[('queen', 'club'), ('queen', 'diamond'), ('queen', 'heart'), ('queen', 'spade')]\n",
            "Found four cards of the same values!\n",
            "[('queen', 'heart'), ('queen', 'spade'), ('queen', 'diamond'), ('queen', 'club')]\n",
            "Found four cards of the same values!\n",
            "[('6', 'heart'), ('6', 'club'), ('6', 'diamond'), ('6', 'spade')]\n",
            "Found four cards of the same values!\n",
            "[('ace', 'spade'), ('ace', 'heart'), ('ace', 'club'), ('ace', 'diamond')]\n",
            "Found four cards of the same values!\n",
            "[('8', 'heart'), ('8', 'spade'), ('8', 'club'), ('8', 'diamond')]\n",
            "Found four cards of the same values!\n",
            "[('4', 'spade'), ('4', 'diamond'), ('4', 'heart'), ('4', 'club')]\n",
            "Found four cards of the same values!\n",
            "[('2', 'spade'), ('2', 'club'), ('2', 'diamond'), ('2', 'heart')]\n",
            "Found four cards of the same values!\n",
            "[('10', 'heart'), ('10', 'spade'), ('10', 'diamond'), ('10', 'club')]\n",
            "Found four cards of the same values!\n",
            "[('queen', 'diamond'), ('queen', 'spade'), ('queen', 'club'), ('queen', 'heart')]\n",
            "Found four cards of the same values!\n",
            "[('2', 'diamond'), ('2', 'heart'), ('2', 'spade'), ('2', 'club')]\n",
            "Found four cards of the same values!\n",
            "[('9', 'spade'), ('9', 'club'), ('9', 'diamond'), ('9', 'heart')]\n",
            "Found four cards of the same values!\n",
            "[('jack', 'club'), ('jack', 'heart'), ('jack', 'spade'), ('jack', 'diamond')]\n",
            "Found four cards of the same values!\n",
            "[('10', 'club'), ('10', 'heart'), ('10', 'diamond'), ('10', 'spade')]\n",
            "Found four cards of the same values!\n",
            "[('7', 'club'), ('7', 'spade'), ('7', 'diamond'), ('7', 'heart')]\n",
            "Found four cards of the same values!\n",
            "[('8', 'spade'), ('8', 'heart'), ('8', 'diamond'), ('8', 'club')]\n",
            "Found four cards of the same values!\n",
            "[('king', 'heart'), ('king', 'diamond'), ('king', 'spade'), ('king', 'club')]\n",
            "Found four cards of the same values!\n",
            "[('9', 'spade'), ('9', 'heart'), ('9', 'diamond'), ('9', 'club')]\n",
            "Found four cards of the same values!\n",
            "[('jack', 'heart'), ('jack', 'diamond'), ('jack', 'club'), ('jack', 'spade')]\n",
            "Found four cards of the same values!\n",
            "[('queen', 'spade'), ('queen', 'club'), ('queen', 'diamond'), ('queen', 'heart')]\n",
            "Found four cards of the same values!\n",
            "[('queen', 'diamond'), ('queen', 'heart'), ('queen', 'spade'), ('queen', 'club')]\n",
            "Found four cards of the same values!\n",
            "[('10', 'spade'), ('10', 'diamond'), ('10', 'heart'), ('10', 'club')]\n",
            "Found four cards of the same values!\n",
            "[('10', 'club'), ('10', 'spade'), ('10', 'diamond'), ('10', 'heart')]\n",
            "Found four cards of the same values!\n",
            "[('9', 'diamond'), ('9', 'heart'), ('9', 'spade'), ('9', 'club')]\n",
            "Found four cards of the same values!\n",
            "[('king', 'diamond'), ('king', 'spade'), ('king', 'club'), ('king', 'heart')]\n",
            "Found four cards of the same values!\n",
            "[('5', 'heart'), ('5', 'club'), ('5', 'diamond'), ('5', 'spade')]\n",
            "Found four cards of the same values!\n",
            "[('2', 'diamond'), ('2', 'spade'), ('2', 'club'), ('2', 'heart')]\n",
            "Found four cards of the same values!\n",
            "[('queen', 'heart'), ('queen', 'club'), ('queen', 'spade'), ('queen', 'diamond')]\n",
            "Found four cards of the same values!\n",
            "[('4', 'club'), ('4', 'diamond'), ('4', 'spade'), ('4', 'heart')]\n",
            "Found four cards of the same values!\n",
            "[('10', 'club'), ('10', 'diamond'), ('10', 'spade'), ('10', 'heart')]\n",
            "Found four cards of the same values!\n",
            "[('7', 'diamond'), ('7', 'heart'), ('7', 'club'), ('7', 'spade')]\n",
            "Found four cards of the same values!\n",
            "[('8', 'club'), ('8', 'spade'), ('8', 'heart'), ('8', 'diamond')]\n",
            "Found four cards of the same values!\n",
            "[('ace', 'diamond'), ('ace', 'spade'), ('ace', 'heart'), ('ace', 'club')]\n",
            "Found four cards of the same values!\n",
            "[('4', 'heart'), ('4', 'spade'), ('4', 'club'), ('4', 'diamond')]\n",
            "Found four cards of the same values!\n",
            "[('3', 'spade'), ('3', 'diamond'), ('3', 'club'), ('3', 'heart')]\n",
            "Found four cards of the same values!\n",
            "[('ace', 'diamond'), ('ace', 'club'), ('ace', 'spade'), ('ace', 'heart')]\n",
            "Found four cards of the same values!\n",
            "[('5', 'diamond'), ('5', 'heart'), ('5', 'club'), ('5', 'spade')]\n",
            "Found four cards of the same values!\n",
            "[('8', 'spade'), ('8', 'heart'), ('8', 'diamond'), ('8', 'club')]\n",
            "Found four cards of the same values!\n",
            "[('4', 'club'), ('4', 'diamond'), ('4', 'heart'), ('4', 'spade')]\n",
            "Found four cards of the same values!\n",
            "[('7', 'spade'), ('7', 'diamond'), ('7', 'club'), ('7', 'heart')]\n",
            "Found four cards of the same values!\n",
            "[('5', 'diamond'), ('5', 'club'), ('5', 'spade'), ('5', 'heart')]\n",
            "Found four cards of the same values!\n",
            "[('3', 'diamond'), ('3', 'club'), ('3', 'heart'), ('3', 'spade')]\n",
            "Found four cards of the same values!\n",
            "[('queen', 'heart'), ('queen', 'spade'), ('queen', 'diamond'), ('queen', 'club')]\n",
            "Found four cards of the same values!\n",
            "[('2', 'heart'), ('2', 'spade'), ('2', 'diamond'), ('2', 'club')]\n",
            "Found four cards of the same values!\n",
            "[('8', 'heart'), ('8', 'diamond'), ('8', 'club'), ('8', 'spade')]\n",
            "Found four cards of the same values!\n",
            "[('queen', 'club'), ('queen', 'spade'), ('queen', 'heart'), ('queen', 'diamond')]\n",
            "Found four cards of the same values!\n",
            "[('6', 'diamond'), ('6', 'heart'), ('6', 'spade'), ('6', 'club')]\n",
            "Found four cards of the same values!\n",
            "[('2', 'club'), ('2', 'heart'), ('2', 'spade'), ('2', 'diamond')]\n",
            "Found four cards of the same values!\n",
            "[('king', 'diamond'), ('king', 'spade'), ('king', 'heart'), ('king', 'club')]\n",
            "Found four cards of the same values!\n",
            "[('2', 'diamond'), ('2', 'club'), ('2', 'heart'), ('2', 'spade')]\n",
            "We have found  57  occurences. Done!\n"
          ]
        }
      ],
      "source": [
        "import random\n",
        "import itertools\n",
        "\n",
        "# To generate a deck of playing card\n",
        "vals = ('ace', '2', '3', '4', '5', '6', '7', '8', '9', '10', 'jack', 'queen', 'king')\n",
        "suits = ('spade', 'heart', 'diamond', 'club')\n",
        "\n",
        "card_deck = itertools.product(vals,suits)  # do a cartesian product\n",
        "\n",
        "clist = []  # empty list\n",
        "for i in card_deck:\n",
        "  # print(i)\n",
        "  clist.append(i)\n",
        "\n",
        "# Check the card deck to see if completed\n",
        "print(len(clist))\n",
        "print(clist)\n",
        "\n",
        "# Do a random 4-card selection for a large number of times\n",
        "count = 0\n",
        "for i in range(0, 1000000):\n",
        "  four_cards = random.sample(clist, k= 4)\n",
        "  # print(four_cards)\n",
        "  first = []\n",
        "  for j in four_cards:\n",
        "    first.append(j[0])\n",
        "    # print(first)\n",
        "  lenght_of_set = len(set(first))\n",
        "  if lenght_of_set == 1:\n",
        "    print(\"Found four cards of the same values!\")\n",
        "    count += 1\n",
        "    print(four_cards)\n",
        "\n",
        "print(\"We have found \", count, \" occurences. Done!\")\n",
        "\n",
        "# Compare the result with theoretical probability (what we had learned in CSC165 Discrete Math last semester).\n",
        "# Is it around (13 choose 1)/(52 choose 4)?\n"
      ]
    },
    {
      "cell_type": "code",
      "source": [
        "# Extra note on set a seed for a random generator\n",
        "\n",
        "random.seed(234)\n",
        "random.sample(range(1,10), k=3)"
      ],
      "metadata": {
        "colab": {
          "base_uri": "https://localhost:8080/"
        },
        "id": "yhaupNTstxf5",
        "outputId": "ee717a23-6157-455d-fa3c-301969d80e11"
      },
      "execution_count": 102,
      "outputs": [
        {
          "output_type": "execute_result",
          "data": {
            "text/plain": [
              "[6, 9, 4]"
            ]
          },
          "metadata": {},
          "execution_count": 102
        }
      ]
    }
  ]
}